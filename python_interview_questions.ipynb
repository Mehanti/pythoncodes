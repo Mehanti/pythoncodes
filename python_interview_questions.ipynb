{
 "cells": [
  {
   "cell_type": "code",
   "execution_count": 1,
   "metadata": {},
   "outputs": [
    {
     "name": "stdout",
     "output_type": "stream",
     "text": [
      "Python Interview Questions set 2 \n"
     ]
    }
   ],
   "source": [
    "print('Python Interview Questions set 2 ')"
   ]
  },
  {
   "cell_type": "code",
   "execution_count": 3,
   "metadata": {},
   "outputs": [
    {
     "name": "stdout",
     "output_type": "stream",
     "text": [
      "120\n"
     ]
    }
   ],
   "source": [
    "# solve the factorial of 5 = 120 using the recursion method \n",
    "\n",
    "\n",
    "def fact(n):\n",
    "    if n==1:\n",
    "        return n\n",
    "    else :\n",
    "        return n * fact(n-1)\n",
    "\n",
    "\n",
    "\n",
    "\n",
    "\n",
    "print(fact(5))"
   ]
  },
  {
   "cell_type": "code",
   "execution_count": 13,
   "metadata": {},
   "outputs": [
    {
     "name": "stdout",
     "output_type": "stream",
     "text": [
      "225\n"
     ]
    }
   ],
   "source": [
    "#  Write a Python Program for cube sum of first n natural numbers\n",
    "\n",
    "\n",
    "def cube_of(n):\n",
    "    k = 0\n",
    "    for i in range(0,n+1):\n",
    "        k += i**3\n",
    "    return k\n",
    "\n",
    "\n",
    "\n",
    "\n",
    "\n",
    "\n",
    "print(cube_of(5))"
   ]
  },
  {
   "cell_type": "code",
   "execution_count": null,
   "metadata": {},
   "outputs": [],
   "source": [
    "# write a program to take input and multiply no with its decimal places   < using the principle of string <self method > \n",
    "\n",
    "\n",
    "\n",
    "def prinstr(n):\n",
    "    s = str(n)\n",
    "    b = 0\n",
    "\n",
    "    for  index , i in enumerate(s):\n",
    "        b = int(i)**(index + 1)\n",
    "        print(b,end='')\n",
    "\n",
    "\n",
    "\n",
    "\n",
    "prinstr(121)"
   ]
  },
  {
   "cell_type": "code",
   "execution_count": null,
   "metadata": {},
   "outputs": [
    {
     "name": "stdout",
     "output_type": "stream",
     "text": [
      "6\n"
     ]
    }
   ],
   "source": [
    "# find the sum of array ? \n",
    "\n",
    "# First way \n",
    "\n",
    "\n",
    "arr = [1,2,3]\n",
    "sume = 0\n",
    "# print(sum(arr))\n",
    "\n",
    "# second way \n",
    "for i in range(len(arr)):\n",
    "    sume += arr[i] \n",
    "print(sume)\n",
    "\n",
    "\n",
    "# or \n",
    "\n",
    "# arr = [1,2,3]\n",
    "# sume = 0\n",
    "\n",
    "\n",
    "# for i in (arr):\n",
    "#     sume += arr[i-1]\n",
    "# print(sume)\n"
   ]
  },
  {
   "cell_type": "code",
   "execution_count": 48,
   "metadata": {},
   "outputs": [
    {
     "name": "stdout",
     "output_type": "stream",
     "text": [
      "8888\n"
     ]
    }
   ],
   "source": [
    "# Find the largest element in the array ? \n",
    "\n",
    "arr = [8888,1,2,3,4,7,8,8]\n",
    "temp = 0\n",
    "for i in range(len(arr)):\n",
    "    if arr[i] > temp:\n",
    "        temp = arr[i]\n",
    "print(temp)\n"
   ]
  },
  {
   "cell_type": "code",
   "execution_count": null,
   "metadata": {},
   "outputs": [
    {
     "name": "stdout",
     "output_type": "stream",
     "text": [
      "Original Array: [10, 20, 30, 40, 50, 60, 70, 80, 90, 100]\n",
      "Modified Array: [60, 70, 80, 90, 100, 10, 20, 30, 40, 50]\n"
     ]
    }
   ],
   "source": [
    " #Write a Python Program to Split the array and add the first part to the end?\n",
    "\n",
    "\n",
    "def split_and_rearrange(arr, split_index):\n",
    "    first_part = arr[:split_index]  # Extract the first part\n",
    "    second_part = arr[split_index:]  # Extract the remaining part\n",
    "    return second_part + first_part  # Concatenate them\n",
    "\n",
    "# Creating an array from 10 to 100 with step of 10\n",
    "arr = list(range(10, 110, 10))\n",
    "\n",
    "# Define the split index (for example, splitting after first 5 elements)\n",
    "split_index = len(arr)//2  # / single slash result in floating point no cause error hence follow // to solve this \n",
    "\n",
    "# Calling the function\n",
    "result = split_and_rearrange(arr, split_index)\n",
    "\n",
    "print(\"Original Array:\", arr)\n",
    "print(\"Modified Array:\", result)\n"
   ]
  },
  {
   "cell_type": "code",
   "execution_count": 57,
   "metadata": {},
   "outputs": [
    {
     "name": "stdout",
     "output_type": "stream",
     "text": [
      "Matrix A:\n",
      "    0  1  2\n",
      "0  1  2  3\n",
      "1  4  5  6\n",
      "Matrix B:\n",
      "     0   1\n",
      "0   7   8\n",
      "1   9  10\n",
      "2  11  12\n",
      "Multiplication Result:\n",
      "      0    1\n",
      "0   58   64\n",
      "1  139  154\n"
     ]
    }
   ],
   "source": [
    "# Matrix multiplication using pandas \n",
    "\n",
    "\n",
    "import pandas as pd\n",
    "import numpy as np\n",
    "\n",
    "# Define two matrices as DataFrames\n",
    "A = pd.DataFrame([[1, 2, 3], \n",
    "                  [4, 5, 6]])\n",
    "\n",
    "B = pd.DataFrame([[7, 8], \n",
    "                  [9, 10], \n",
    "                  [11, 12]])\n",
    "\n",
    "# Convert to NumPy arrays and perform matrix multiplication\n",
    "result = pd.DataFrame(np.dot(A.values, B.values))\n",
    "\n",
    "# Print result\n",
    "print(\"Matrix A:\\n\", A)\n",
    "print(\"Matrix B:\\n\", B)\n",
    "print(\"Multiplication Result:\\n\", result)\n"
   ]
  },
  {
   "cell_type": "code",
   "execution_count": 58,
   "metadata": {},
   "outputs": [
    {
     "name": "stdout",
     "output_type": "stream",
     "text": [
      "Original Matrix:\n",
      "    0  1  2\n",
      "0  1  2  3\n",
      "1  4  5  6\n",
      "2  7  8  9\n",
      "\n",
      "Transposed Matrix:\n",
      "    0  1  2\n",
      "0  1  4  7\n",
      "1  2  5  8\n",
      "2  3  6  9\n"
     ]
    }
   ],
   "source": [
    "# transpose of matrix \n",
    "import pandas as pd\n",
    "\n",
    "# Define a matrix as a Pandas DataFrame\n",
    "matrix = pd.DataFrame([[1, 2, 3], \n",
    "                       [4, 5, 6], \n",
    "                       [7, 8, 9]])\n",
    "\n",
    "# Transpose the matrix\n",
    "transpose_matrix = matrix.T\n",
    "\n",
    "# Print results\n",
    "print(\"Original Matrix:\\n\", matrix)\n",
    "print(\"\\nTransposed Matrix:\\n\", transpose_matrix)\n"
   ]
  },
  {
   "cell_type": "code",
   "execution_count": 59,
   "metadata": {},
   "outputs": [
    {
     "name": "stdout",
     "output_type": "stream",
     "text": [
      "Hello he said and went\n"
     ]
    }
   ],
   "source": [
    "# Write a Python Program to Remove Punctuation From a String\n",
    "\n",
    "my_str = 'Hello!!!, he said ---and went'\n",
    "\n",
    "punctuations = '''!()-[]{};:'\"\\,<>./?@#$%^&*_~'''\n",
    "\n",
    "\n",
    "no_punc = \"\"\n",
    "\n",
    "for char in my_str:\n",
    "    if char not in punctuations:\n",
    "        no_punc = no_punc+char\n",
    "\n",
    "\n",
    "print(no_punc)\n"
   ]
  },
  {
   "cell_type": "code",
   "execution_count": null,
   "metadata": {},
   "outputs": [
    {
     "data": {
      "text/plain": [
       "'yes'"
      ]
     },
     "execution_count": 86,
     "metadata": {},
     "output_type": "execute_result"
    }
   ],
   "source": [
    "# # Disarium Number --> 8**1 + 9**2 = 8 + 81 = 89 \n",
    "# A Disarium number is a number that is equal to the sum of its digits each raised to the\n",
    "#  power of its respective position. For example, 89 is a Disarium number because\n",
    "\n",
    "\n",
    "def disarium(n):\n",
    "    n1 = str(n)  # Convert the number to a string to access each digit individually\n",
    "    b = 0  # Initialize a variable to store the sum of powered digits\n",
    "\n",
    "    for index, i in enumerate(n1):  # enumerate() provides both index (position) and digit (i)\n",
    "        b += int(i) ** (index + 1)  # Convert digit to int and raise it to the power of (index + 1)\n",
    "    \n",
    "    if b == n:  # Check if the sum matches the original number\n",
    "       return 'yes'  # If true, it's a Disarium number\n",
    "    else:\n",
    "        return 'no'  # Otherwise, it's not a Disarium number\n",
    "\n",
    "\n",
    "\n",
    "\n",
    "\n",
    "\n",
    "\n",
    "disarium(89)"
   ]
  },
  {
   "cell_type": "markdown",
   "metadata": {},
   "source": [
    "happy no \n",
    "\n",
    "1² + 9² = 1 + 81 = 82\n",
    "\n",
    "8² + 2² = 64 + 4 = 68\n",
    "\n",
    "6² + 8² = 36 + 64 = 100\n",
    "\n",
    "1² + 0² + 0² = 1 + 0 + 0 = 1"
   ]
  },
  {
   "cell_type": "code",
   "execution_count": null,
   "metadata": {},
   "outputs": [
    {
     "name": "stdout",
     "output_type": "stream",
     "text": [
      "happy number\n",
      "happy number\n",
      "Not\n"
     ]
    }
   ],
   "source": [
    "# # Happy Number \n",
    "#  Happy Number: A Happy Number is a positive integer that, when you repeatedly replace\n",
    "#  the number by the sum of the squares of its digits and continue the process, eventually\n",
    "#  reaches 1. If the process never reaches 1 but instead loops endlessly in a cycle, the number\n",
    "#  is not a Happy Number.\n",
    "\n",
    "\n",
    "# def happy(n):\n",
    "#     n1 = str(n)  # Convert number to string\n",
    "#     b = 0  # Variable to store sum of squares of digits\n",
    "    \n",
    "#     for i in n1:  \n",
    "#         b += int(i) ** 2  # Add square of each digit                                            this code can cause the infinite recursion if no is not happy  <self logic> \n",
    "\n",
    "\n",
    "#     if b == 1:  # If sum becomes 1, it's a Happy Number\n",
    "#         return \"Happy Number\"\n",
    "#     else:\n",
    "#         return happy(b)  # Recursively call function for new sum\n",
    "\n",
    "# # Example usage\n",
    "# print(happy(19))  # Output: Happy Number\n",
    "\n",
    "\n",
    "\n",
    "\n",
    "# hence writing the code for this : \n",
    "\n",
    "\n",
    "\n",
    "def happy(n):\n",
    "    seen = set()\n",
    "\n",
    "    while n!= 1 and n not in seen:\n",
    "        seen.add(n)\n",
    "        n = sum(int(i) **2 for i in str(n))\n",
    "\n",
    "    return 'happy number' if n ==1 else 'Not'\n",
    "\n",
    "\n",
    "\n",
    "\n",
    "\n",
    "print(happy(23))\n",
    "print(happy(19))\n",
    "print(happy(20))\n",
    "\n",
    "\n",
    "\n",
    "# def happy(n):\n",
    "#     seen = set()\n",
    "\n",
    "#     while n>=1 and n not in seen:\n",
    "#         seen.add(n)\n",
    "#         n = sum(int(i)**2 for i in str(n))\n",
    "#     return 'yes' if n == 1 else 'No'\n",
    "\n",
    "\n",
    "\n",
    "# happy(29)"
   ]
  },
  {
   "cell_type": "code",
   "execution_count": null,
   "metadata": {},
   "outputs": [],
   "source": [
    "# LCM OF A NO \n",
    "\n",
    "\n",
    "def lcn(n1,n2):\n",
    "\n",
    "    maxno = max(n1,n2)\n",
    "\n",
    "    while True:\n",
    "        if maxno % n1 == 0 and maxno % n2 == 0:\n",
    "            return maxno\n",
    "        maxno +=1 \n",
    "\n",
    "\n",
    "\n",
    "\n",
    "\n",
    "print(lcm(3,18))  #18\n",
    "print(lcn(3,7))     #21\n",
    "\n",
    "\n",
    "# # Self program \n",
    "# def lcm(n1, n2):\n",
    "#     set1 = []\n",
    "#     set2 = []\n",
    "\n",
    "#     for i in range(1, n1 * n2 + 1):\n",
    "#         multiple = i * n1\n",
    "#         if multiple > n1 * n2:\n",
    "#             break\n",
    "#         set1.append(multiple)\n",
    "\n",
    "#     for j in range(1, n1 * n2 + 1):\n",
    "#         multiple = j * n2\n",
    "#         if multiple > n1 * n2:\n",
    "#             break\n",
    "#         set2.append(multiple)\n",
    "\n",
    "#     common = set(set1).intersection(set2)\n",
    "\n",
    "#     return min(common)\n",
    "\n",
    "# # Example usage\n",
    "# print(lcm(10, 20))  # Output: 20\n",
    "# print(lcm(3, 7))    # Output: 21"
   ]
  },
  {
   "cell_type": "code",
   "execution_count": null,
   "metadata": {},
   "outputs": [],
   "source": [
    "# HCF OF A NO> \n",
    "def hcf(n1, n2):\n",
    "    set1 = []\n",
    "    set2 = []\n",
    "\n",
    "    for i in range(1, n1 + 1):\n",
    "        if n1 % i == 0:\n",
    "            set1.append(i)\n",
    "\n",
    "\n",
    "    for j in range(1, n2 + 1):\n",
    "        if n2 % j == 0:\n",
    "            set2.append(j)\n",
    "\n",
    "\n",
    "    common = set(set1).intersection(set2)\n",
    "    \n",
    "    return max(common)\n",
    "\n",
    "\n",
    "\n",
    "\n",
    "hcf(8,12)\n"
   ]
  },
  {
   "cell_type": "code",
   "execution_count": null,
   "metadata": {},
   "outputs": [
    {
     "name": "stdout",
     "output_type": "stream",
     "text": [
      "happy\n"
     ]
    }
   ],
   "source": [
    "# create a program to sum all odd no from 1 to a specified no n .. \n",
    "\n",
    "def sum_of_odd(n):\n",
    "        i = 1\n",
    "        temp = 0\n",
    "        while i <= n :\n",
    "              \n",
    "              \n",
    "              temp += int(i)\n",
    "              i+=2\n",
    "        return temp\n",
    "\n",
    "\n",
    "\n",
    " \n",
    "           \n",
    "\n",
    "\n",
    "\n",
    "\n",
    "sum_of_odd(5)  # calling function\n",
    "# expected 9 "
   ]
  },
  {
   "cell_type": "code",
   "execution_count": null,
   "metadata": {},
   "outputs": [],
   "source": []
  },
  {
   "cell_type": "code",
   "execution_count": null,
   "metadata": {},
   "outputs": [],
   "source": []
  }
 ],
 "metadata": {
  "kernelspec": {
   "display_name": "base",
   "language": "python",
   "name": "python3"
  },
  "language_info": {
   "codemirror_mode": {
    "name": "ipython",
    "version": 3
   },
   "file_extension": ".py",
   "mimetype": "text/x-python",
   "name": "python",
   "nbconvert_exporter": "python",
   "pygments_lexer": "ipython3",
   "version": "3.11.7"
  }
 },
 "nbformat": 4,
 "nbformat_minor": 2
}
