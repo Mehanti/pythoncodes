{
 "cells": [
  {
   "cell_type": "code",
   "execution_count": 2,
   "metadata": {},
   "outputs": [
    {
     "name": "stdout",
     "output_type": "stream",
     "text": [
      "Data Engineering interview python questions for practice\n",
      "https://www.youtube.com/watch?v=W1T7JtO9c0Y&t=4s\n"
     ]
    }
   ],
   "source": [
    "print('Data Engineering interview python questions for practice')\n",
    "print(\"https://www.youtube.com/watch?v=W1T7JtO9c0Y&t=4s\")"
   ]
  },
  {
   "cell_type": "code",
   "execution_count": 13,
   "metadata": {},
   "outputs": [
    {
     "name": "stdout",
     "output_type": "stream",
     "text": [
      "not prime\n",
      "not prime\n",
      "prime\n",
      "prime\n"
     ]
    }
   ],
   "source": [
    "# creating a prime no program\n",
    "\n",
    "# Every no is divisible by  1 hence we exclude this condition from the program \n",
    "\n",
    "def prime(n):\n",
    "    for i in range(2,n-1):\n",
    "       if n%i == 0:\n",
    "          return 'not prime'\n",
    "       else:\n",
    "          return f'{n} is prime no'\n",
    "    \n",
    "\n",
    "\n",
    "prime(5)\n",
    "\n",
    "       "
   ]
  },
  {
   "cell_type": "code",
   "execution_count": 18,
   "metadata": {},
   "outputs": [
    {
     "data": {
      "text/plain": [
       "40320"
      ]
     },
     "execution_count": 18,
     "metadata": {},
     "output_type": "execute_result"
    }
   ],
   "source": [
    "# Find the Factorial of the given no : \n",
    "\n",
    "def factorial(n):\n",
    "    # need to introduce the base case to avoid the recursion error for this . \n",
    "    if n == 0 or n == 1 :\n",
    "        return 1\n",
    "    else:\n",
    "\n",
    "        return n * factorial(n-1)\n",
    "\n",
    "\n",
    "factorial(8)\n",
    "\n",
    "\n",
    "# 0! = 1 and 1! = 1 --> Hence recursion longer to avoid this condition we need to setup a base condition .\n",
    "# fact(0) = 0 * fact(-1) hence no stop cause recursion depth exceeded . \n",
    "\n"
   ]
  },
  {
   "cell_type": "code",
   "execution_count": 3,
   "metadata": {},
   "outputs": [
    {
     "name": "stdout",
     "output_type": "stream",
     "text": [
      "120\n"
     ]
    }
   ],
   "source": [
    "# Solving factorial with Normal Logic \n",
    "\n",
    "\n",
    "\n",
    "# def factorial_iterative(n):\n",
    "#     result = 1\n",
    "#     for i in range(1, n + 1):\n",
    "#         result *= i\n",
    "#     return result\n",
    "\n",
    "\n",
    "# factorial logic --> n*n-1\n",
    "\n",
    "def factorial(n):\n",
    "    result = n \n",
    "    while n > 1:\n",
    "        n -= 1\n",
    "        result *=n\n",
    "    return result\n",
    "\n",
    "\n",
    "print(factorial(5))"
   ]
  },
  {
   "cell_type": "code",
   "execution_count": 19,
   "metadata": {},
   "outputs": [
    {
     "name": "stdout",
     "output_type": "stream",
     "text": [
      "second video link --> https://www.youtube.com/watch?v=TLprokTonH4\n"
     ]
    }
   ],
   "source": [
    "print('second video link --> https://www.youtube.com/watch?v=TLprokTonH4')"
   ]
  },
  {
   "cell_type": "code",
   "execution_count": 10,
   "metadata": {},
   "outputs": [
    {
     "data": {
      "text/plain": [
       "5"
      ]
     },
     "execution_count": 10,
     "metadata": {},
     "output_type": "execute_result"
    }
   ],
   "source": [
    "# # nth series fibonacci no :\n",
    "# # 0,1,1,2,3,5,8,13 -> mtlb previous no mai add kar rahe hai \n",
    "\n",
    "\n",
    "def fib(n):\n",
    "    if n == 1 :           # base nahi hai ishme n==0 per 0 hence causing infine loops running if n==2 hathate hai tho\n",
    "       return 1\n",
    "    \n",
    "    elif n == 2:\n",
    "        return 1 \n",
    "    \n",
    "    else:\n",
    "        return fib(n-1) + fib(n-2)\n",
    "    \n",
    "\n",
    "\n",
    "fib(5)\n",
    "\n",
    "# as per the above given index the given fibonacci no is the 3 . \n",
    "\n",
    "\n",
    "# fib(1) = 1\n",
    "# fib(2) = 1\n",
    "# fib(3) = fib(2) + fib(1) = 1 + 1 = 2\n",
    "# fib(4) = fib(3) + fib(2) = 2 + 1 = 3\n",
    "# fib(5) = fib(4) + fib(3) = 3 + 2 = 5\n",
    "\n"
   ]
  },
  {
   "cell_type": "code",
   "execution_count": 8,
   "metadata": {},
   "outputs": [
    {
     "name": "stdout",
     "output_type": "stream",
     "text": [
      "5\n",
      "8\n",
      "13\n"
     ]
    }
   ],
   "source": [
    "def fib(n):\n",
    "    if n <= 0:  # Base case: Fibonacci of 0 is 0\n",
    "        return 0  \n",
    "    elif n == 1:  # Base case: Fibonacci of 1 is 1\n",
    "        return 1  \n",
    "    else:\n",
    "        return fib(n-1) + fib(n-2)  # Recursion for Fibonacci sequence\n",
    "\n",
    "print(fib(5))  # Output: 5\n",
    "print(fib(6))  # Output: 8\n",
    "print(fib(7))  # Output: 13\n"
   ]
  },
  {
   "cell_type": "code",
   "execution_count": 1,
   "metadata": {},
   "outputs": [
    {
     "name": "stdout",
     "output_type": "stream",
     "text": [
      "1--> 2--> 3--> 5--> 8--> 13--> 21--> 34--> "
     ]
    }
   ],
   "source": [
    "# Normal Logic for the Fibonacci series \n",
    "\n",
    "# fibonacci series \n",
    "\n",
    "# 1 2 3 5 8 -----\n",
    "\n",
    "n = 10 \n",
    "a = 0\n",
    "b = 1 \n",
    "\n",
    "for _ in range(0,n-2):\n",
    "    c = a+b\n",
    "    print(c,end =\"--> \")\n",
    "    a,b = b,c \n",
    "    \n",
    "\n",
    "\n",
    "\n",
    "\n",
    "# perform execution on notebook \n",
    "\n",
    "\n",
    "\n",
    "# a -1 ,1\n",
    "# b -> 2\n",
    "# n ->  8\n",
    "# c -> 1,2 ,3  ----- till 8th position got it "
   ]
  },
  {
   "cell_type": "code",
   "execution_count": null,
   "metadata": {},
   "outputs": [],
   "source": [
    "# Sum of first n natural numbers program \n",
    "\n",
    "\n",
    "n = 5 \n",
    "output = 0\n",
    "\n",
    "for i in range(n,0,-1):\n",
    "    output = output + i\n",
    "    print(output)\n"
   ]
  },
  {
   "cell_type": "code",
   "execution_count": 2,
   "metadata": {},
   "outputs": [
    {
     "name": "stdout",
     "output_type": "stream",
     "text": [
      "16\n",
      "25\n",
      "29\n",
      "30\n"
     ]
    }
   ],
   "source": [
    "# sum of square of first natural numbers ? \n",
    "\n",
    "n = 4 \n",
    "output = 0\n",
    "\n",
    "for i in range(n,0,-1):\n",
    "    square = i*i\n",
    "    output = output + square\n",
    "    output = output \n",
    "    print(output)\n",
    "\n",
    "\n",
    "\n",
    "\n",
    "# or \n",
    "# def squarefunction(n):\n",
    "#     output = 0\n",
    "#     for i in range(n,0,-1):\n",
    "#         square = i*i\n",
    "#         output = output + square\n",
    "#         output = output\n",
    "#         print(output)\n",
    "\n",
    "\n",
    "\n",
    "# squarefunction(4)\n",
    "    "
   ]
  },
  {
   "cell_type": "code",
   "execution_count": 9,
   "metadata": {},
   "outputs": [
    {
     "name": "stdout",
     "output_type": "stream",
     "text": [
      "8208 is an Armstrong number.\n"
     ]
    }
   ],
   "source": [
    "# Armstrong No: \n",
    "# The concept of Armstrong numbers (also known as narcissistic numbers or pluperfect numbers) is based on the idea that a number can be expressed\n",
    "# as the sum of its own digits, \n",
    "# each raised to the power of the number of digits in that number.\n",
    "\n",
    "# 1^3 + 5^3 + 3^3 = 153 \n",
    " # 8^4 + 2^4 +0^4 + 8^4 = 8208\n",
    "\n",
    "# pseudo code first we need to split the the 153 in to 1 5 and 3   --> by the concept of 10 \n",
    "# then we need to add these no \n",
    "# put condition to check whether the no is armstrong or not .\n",
    "\n",
    "\n",
    "# Function to check if a number is an Armstrong number\n",
    "def is_armstrong(number):\n",
    "    num_str = str(number)  # Convert number to string to count digits\n",
    "    num_digits = len(num_str)  # Get the number of digits\n",
    "\n",
    "    armstrong_sum = 0  # Initialize the sum variable\n",
    "    for digit in num_str:\n",
    "        armstrong_sum += int(digit)**num_digits  # Compute sum of powered digits\n",
    "\n",
    "    return armstrong_sum == number  # Check if it matches the original number\n",
    "\n",
    "# Input from user\n",
    "num = 8208\n",
    "\n",
    "# Check if the number is Armstrong\n",
    "if is_armstrong(num):\n",
    "    print(f\"{num} is an Armstrong number.\")\n",
    "else:\n",
    "    print(f\"{num} is NOT an Armstrong number.\")\n"
   ]
  },
  {
   "cell_type": "code",
   "execution_count": null,
   "metadata": {},
   "outputs": [],
   "source": [
    "# foundational program to understand armstrong better by reversing the two strings : \n",
    "\n",
    "def rev(n):\n",
    "    p = 0\n",
    "    for _ in range(len(str(n))): \n",
    "         \n",
    "         p = p*10 +n%10\n",
    "         n = n//10\n",
    "\n",
    "    return p\n",
    "\n",
    "\n",
    "n = 15\n",
    "print(rev(n))"
   ]
  },
  {
   "cell_type": "code",
   "execution_count": null,
   "metadata": {},
   "outputs": [
    {
     "name": "stdout",
     "output_type": "stream",
     "text": [
      "Yes\n"
     ]
    }
   ],
   "source": [
    "# solving this question by using the concept of Mod . \n",
    "\n",
    "n = 153\n",
    "original_n = n  # Store the original number\n",
    "temp = 0\n",
    "sum = 0\n",
    "length = len(str(n))\n",
    "\n",
    "while n > 0:\n",
    "    temp = n % 10  # Get the last digit  reminder store karta hai \n",
    "    sum += temp ** length  # Add the powered digit to sum\n",
    "    n = n // 10  # Use integer division to get the next digit keeps the divident \n",
    "\n",
    "if original_n == sum:  # Check if the sum matches the original number\n",
    "    print('Yes')\n",
    "else:\n",
    "    print('No')\n"
   ]
  },
  {
   "cell_type": "code",
   "execution_count": 26,
   "metadata": {},
   "outputs": [
    {
     "name": "stdout",
     "output_type": "stream",
     "text": [
      "continue with the video --> https://www.youtube.com/watch?v=GSmkVC3934c\n"
     ]
    }
   ],
   "source": [
    "print(\"continue with the video --> https://www.youtube.com/watch?v=GSmkVC3934c\")"
   ]
  },
  {
   "cell_type": "code",
   "execution_count": 8,
   "metadata": {},
   "outputs": [
    {
     "name": "stdout",
     "output_type": "stream",
     "text": [
      "11\n"
     ]
    }
   ],
   "source": [
    "# python program to find the sum of array \n",
    "\n",
    "\n",
    "arr = [1,2,3,5]\n",
    "res = 0\n",
    "\n",
    "\n",
    "\n",
    "\n",
    "for i in range(0,len(arr)):\n",
    "    res = res + arr[i]\n",
    "\n",
    "\n",
    "print(res)"
   ]
  },
  {
   "cell_type": "code",
   "execution_count": 2,
   "metadata": {},
   "outputs": [
    {
     "name": "stdout",
     "output_type": "stream",
     "text": [
      "Largest element: 30\n"
     ]
    }
   ],
   "source": [
    "# Find the largest element among the numbers ? \n",
    "\n",
    "arr = [10, 20, 4,30]\n",
    "temp = arr[0]\n",
    "\n",
    "for i in range(1, len(arr)):\n",
    "    if arr[i] > temp:\n",
    "        temp = arr[i]\n",
    "        \n",
    "print(\"Largest element:\", temp)\n",
    "\n"
   ]
  },
  {
   "cell_type": "code",
   "execution_count": null,
   "metadata": {},
   "outputs": [
    {
     "name": "stdout",
     "output_type": "stream",
     "text": [
      "4\n",
      "20\n",
      "10\n"
     ]
    }
   ],
   "source": [
    "# Python program to rotate the array ?   < Important program > \n",
    "\n",
    "arr = [10,20,4]\n",
    "\n",
    "for i in range(len(arr)-1,-1,-1):\n",
    "\n",
    "    print(arr[i])\n",
    "\n",
    "# due to iteration logic it stopped before  0 hence - 1 is mentioned to at 0 index value its iteration based range function issue .\n",
    "\n",
    "#     Explanation:\n",
    "# len(arr) - 1 is the index of the last element (which is 2 for a 3-element list).\n",
    "# The loop stops when it reaches -1 (non-inclusive), effectively including index 0.\n",
    "# The step -1 tells the loop to decrement the index by 1 each iteration."
   ]
  },
  {
   "cell_type": "code",
   "execution_count": 4,
   "metadata": {},
   "outputs": [
    {
     "name": "stdout",
     "output_type": "stream",
     "text": [
      "[1, 2, 3, 4, 5, 6, 7]\n",
      "[7, 2, 3, 4, 5, 6, 1]\n"
     ]
    }
   ],
   "source": [
    "# Wap to intercahange first and last element ? \n",
    "# # Wap to intercahange first and last element ? \n",
    "\n",
    "arr = [1,2,3,4,5,6,7]\n",
    "\n",
    "print(arr)\n",
    "\n",
    "temp = arr[0]\n",
    "arr[0] = arr[-1]\n",
    "arr[-1] = temp\n",
    "\n",
    "print(arr)\n",
    "\n",
    "\n",
    "\n",
    "\n",
    "\n",
    "# or\n",
    "\n",
    "# a = [1,2,3,4,5]\n",
    "\n",
    "# a[0],a[-1] = a[-1],a[0]\n",
    "# print(a)\n",
    "# changesgit "
   ]
  },
  {
   "cell_type": "code",
   "execution_count": 28,
   "metadata": {},
   "outputs": [
    {
     "name": "stdout",
     "output_type": "stream",
     "text": [
      "[1, 5, 3, 4, 2]\n"
     ]
    }
   ],
   "source": [
    "# Swap two elements in a list arr = [1,2,3,4,5] , 2 and 5 \n",
    "\n",
    "\n",
    "arr = [1, 2, 3, 4, 5]\n",
    "\n",
    "# Loop through the list to find the indices of 2 and 5\n",
    "index_2 = None\n",
    "index_5 = None\n",
    "\n",
    "for i in range(len(arr)):\n",
    "    if arr[i] == 2:\n",
    "        index_2 = i\n",
    "    elif arr[i] == 5:\n",
    "        index_5 = i\n",
    "\n",
    "# Swap the elements if both were found\n",
    "if index_2 is not None and index_5 is not None:\n",
    "    arr[index_2], arr[index_5] = arr[index_5], arr[index_2]\n",
    "\n",
    "\n",
    "print(arr)\n"
   ]
  },
  {
   "cell_type": "code",
   "execution_count": 39,
   "metadata": {},
   "outputs": [
    {
     "name": "stdout",
     "output_type": "stream",
     "text": [
      "[1, 5, 3, 4, 2]\n"
     ]
    }
   ],
   "source": [
    "arr = [1,2,3,4,5]\n",
    "\n",
    "\n",
    "inx1 = None\n",
    "inx2 = None\n",
    "\n",
    "for i in range(len(arr)):\n",
    "    if arr[i] == 2:\n",
    "        inx1 = i\n",
    "    elif arr[i] == 5:\n",
    "        inx2 = i\n",
    "\n",
    "\n",
    "arr[inx1] ,arr[inx2] = arr[inx2] ,arr[inx1]\n",
    "\n",
    "print(arr)"
   ]
  },
  {
   "cell_type": "code",
   "execution_count": 41,
   "metadata": {},
   "outputs": [
    {
     "name": "stdout",
     "output_type": "stream",
     "text": [
      "practicing the string related questions on this one \n",
      "------------> https://www.youtube.com/watch?v=F-IYmNTZUZk&t=2s\n"
     ]
    }
   ],
   "source": [
    "print('practicing the string related questions on this one ')\n",
    "print('------------> https://www.youtube.com/watch?v=F-IYmNTZUZk&t=2s')"
   ]
  },
  {
   "cell_type": "code",
   "execution_count": 55,
   "metadata": {},
   "outputs": [
    {
     "name": "stdout",
     "output_type": "stream",
     "text": [
      "yes\n"
     ]
    }
   ],
   "source": [
    "# check if the stringer is pallendrome / after reverse is same or not \n",
    "# logic mention in this question also be applicable to reverse the string \n",
    "\n",
    "a = 'aba'\n",
    "a1 = a\n",
    "reversed_string = ''\n",
    "\n",
    "for i in range(len(a1) - 1, -1, -1):\n",
    "    reversed_string += a1[i]\n",
    "\n",
    "if reversed_string == a:\n",
    "    print('yes')\n",
    "else:\n",
    "    print('no')\n",
    "\n",
    "\n",
    "\n",
    "\n",
    "# # OR \n",
    "\n",
    "# s = 'aba'\n",
    "\n",
    "# s == s[::-1]       # inbuilt function we are using for this \n",
    "\n"
   ]
  },
  {
   "cell_type": "code",
   "execution_count": 56,
   "metadata": {},
   "outputs": [
    {
     "name": "stdout",
     "output_type": "stream",
     "text": [
      "for mind books are good\n"
     ]
    }
   ],
   "source": [
    "# Reverse words in a given string in python              <Research on this program > \n",
    "str = 'Books are good for mind'\n",
    "\n",
    "# change it to for mind book are good \n",
    "\n",
    "\n",
    "s = 'Books are good for mind'\n",
    "words = s.split()  # words = ['Books', 'are', 'good', 'for', 'mind']\n",
    "\n",
    "# Rearrange the words based on the desired order:\n",
    "# Desired order: index 3, 4, 0, 1, 2 => \"for mind book are good\"\n",
    "# Also, converting \"Books\" to lowercase \"book\" as shown in the output.\n",
    "rearranged = [words[3], words[4], words[0].lower(), words[1], words[2]]\n",
    "\n",
    "# Join the rearranged words back into a string\n",
    "result = \" \".join(rearranged)\n",
    "print(result)\n"
   ]
  },
  {
   "cell_type": "code",
   "execution_count": null,
   "metadata": {},
   "outputs": [],
   "source": [
    "    "
   ]
  }
 ],
 "metadata": {
  "kernelspec": {
   "display_name": "base",
   "language": "python",
   "name": "python3"
  },
  "language_info": {
   "codemirror_mode": {
    "name": "ipython",
    "version": 3
   },
   "file_extension": ".py",
   "mimetype": "text/x-python",
   "name": "python",
   "nbconvert_exporter": "python",
   "pygments_lexer": "ipython3",
   "version": "3.11.7"
  }
 },
 "nbformat": 4,
 "nbformat_minor": 2
}
